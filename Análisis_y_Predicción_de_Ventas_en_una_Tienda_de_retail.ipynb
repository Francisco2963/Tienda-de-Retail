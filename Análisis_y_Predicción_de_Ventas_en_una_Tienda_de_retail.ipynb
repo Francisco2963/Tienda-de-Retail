{
  "nbformat": 4,
  "nbformat_minor": 0,
  "metadata": {
    "colab": {
      "provenance": [],
      "authorship_tag": "ABX9TyOcx3SsGDYCquSMfsUORyej",
      "include_colab_link": true
    },
    "kernelspec": {
      "name": "python3",
      "display_name": "Python 3"
    },
    "language_info": {
      "name": "python"
    }
  },
  "cells": [
    {
      "cell_type": "markdown",
      "metadata": {
        "id": "view-in-github",
        "colab_type": "text"
      },
      "source": [
        "<a href=\"https://colab.research.google.com/github/Francisco2963/Tienda-de-Retail/blob/main/An%C3%A1lisis_y_Predicci%C3%B3n_de_Ventas_en_una_Tienda_de_retail.ipynb\" target=\"_parent\"><img src=\"https://colab.research.google.com/assets/colab-badge.svg\" alt=\"Open In Colab\"/></a>"
      ]
    },
    {
      "cell_type": "markdown",
      "source": [
        "# Análisis y Predicción de Ventas en una Tienda de Retail (Core)\n",
        "\n",
        "Introducción al Proyecto\n",
        "\n",
        "En este proyecto de curso, desarrollaremos un análisis integral de un conjunto de datos de ventas de una tienda de retail. El objetivo es que los estudiantes apliquen lo aprendido en las diferentes secciones del curso, desde la manipulación básica de datos con NumPy, pasando por el análisis y visualización de datos con Pandas, hasta el uso de técnicas de machine learning para realizar predicciones. Este proyecto será una excelente adición al portafolio de los estudiantes y les permitirá demostrar su competencia en varias áreas clave de la ciencia de datos.\n",
        "\n",
        "Dataset\n",
        "\n",
        "Para este proyecto, utilizaremos un dataset reciente de Kaggle titulado «Retail Sales Dataset» (2023-2024). Este dataset contiene información detallada sobre las ventas diarias de diferentes productos en varias tiendas. Puedes descargar el dataset desde Kaggle.\n",
        "\n",
        "Parte 1: Análisis Básico con NumPy\n",
        "\n",
        "En esta primera parte del proyecto, los estudiantes realizarán un análisis preliminar del dataset utilizando NumPy. El objetivo es familiarizarse con los datos y realizar operaciones básicas de manipulación y análisis.\n",
        "\n",
        "Instrucciones:\n",
        "\n",
        "Configuración Inicial del Proyecto:\n",
        "\n",
        "Crea un repositorio en GitHub para tu proyecto.\n",
        "\n",
        "Configura dos ramas en tu repositorio: main y development.\n",
        "\n",
        "Agrega un archivo README.md con una descripción del proyecto, instrucciones de instalación y uso.\n",
        "\n",
        "Carga y Preprocesamiento de Datos:\n",
        "\n",
        "Carga los datos del archivo CSV utilizando NumPy.\n",
        "\n",
        "Realiza un preprocesamiento básico para asegurarte de que los datos estén limpios y listos para su análisis.\n",
        "\n",
        "Exploración de Datos:\n",
        "\n",
        "Calcula el total de ventas por producto y por tienda.\n",
        "\n",
        "Calcula el promedio de ventas diarias por producto y por tienda.\n",
        "\n",
        "Identifica los productos y tiendas con mayores y menores ventas.\n",
        "\n",
        "Manipulación de Datos:\n",
        "\n",
        "Filtra los datos para mostrar solo las ventas de un producto específico.\n",
        "\n",
        "Filtra los datos para mostrar solo las ventas de una tienda específica.\n",
        "\n",
        "Realiza operaciones de suma, resta, multiplicación y división en los datos para obtener estadísticas adicionales."
      ],
      "metadata": {
        "id": "DCTvv9yUeN6l"
      }
    },
    {
      "cell_type": "code",
      "execution_count": 2,
      "metadata": {
        "colab": {
          "base_uri": "https://localhost:8080/"
        },
        "id": "vj2T1H4keHWs",
        "outputId": "b91adf57-5291-4690-fefd-93ac1fe09ef3"
      },
      "outputs": [
        {
          "output_type": "stream",
          "name": "stdout",
          "text": [
            "Cloning into 'Tienda-de-Retail'...\n",
            "remote: Enumerating objects: 3, done.\u001b[K\n",
            "remote: Counting objects: 100% (3/3), done.\u001b[K\n",
            "remote: Compressing objects: 100% (2/2), done.\u001b[K\n",
            "remote: Total 3 (delta 0), reused 0 (delta 0), pack-reused 0\u001b[K\n",
            "Receiving objects: 100% (3/3), done.\n",
            "/content/Tienda-de-Retail\n"
          ]
        }
      ],
      "source": [
        "!git clone https://github.com/Francisco2963/Tienda-de-Retail\n",
        "%cd Tienda-de-Retail"
      ]
    },
    {
      "cell_type": "markdown",
      "source": [
        "# Crear Ramas Prueba-1 y development:\n",
        "Asegúrate de estar en la prueba-1 :"
      ],
      "metadata": {
        "id": "OqB4_PaviVfT"
      }
    },
    {
      "cell_type": "code",
      "source": [
        "!git checkout Prueba-1"
      ],
      "metadata": {
        "colab": {
          "base_uri": "https://localhost:8080/"
        },
        "id": "r-y5INw4ipJ0",
        "outputId": "daa7bba4-97e6-456d-b547-4db1ad5d77aa"
      },
      "execution_count": 4,
      "outputs": [
        {
          "output_type": "stream",
          "name": "stdout",
          "text": [
            "Branch 'Prueba-1' set up to track remote branch 'Prueba-1' from 'origin'.\n",
            "Switched to a new branch 'Prueba-1'\n"
          ]
        }
      ]
    },
    {
      "cell_type": "markdown",
      "source": [
        "Crea y cambia a la rama development:"
      ],
      "metadata": {
        "id": "1hKWEIZci_vh"
      }
    },
    {
      "cell_type": "code",
      "source": [
        "!git checkout -b Development"
      ],
      "metadata": {
        "colab": {
          "base_uri": "https://localhost:8080/"
        },
        "id": "BctJNoKajBLz",
        "outputId": "2334452c-6396-4a68-eb2a-8a350cb23c3b"
      },
      "execution_count": 5,
      "outputs": [
        {
          "output_type": "stream",
          "name": "stdout",
          "text": [
            "Switched to a new branch 'Development'\n"
          ]
        }
      ]
    },
    {
      "cell_type": "code",
      "source": [
        "!git add README.md\n",
        "!git commit -m \"Add README.md\""
      ],
      "metadata": {
        "colab": {
          "base_uri": "https://localhost:8080/"
        },
        "id": "4SwJGCg4kQHW",
        "outputId": "9ca87789-9e4f-4d80-f285-6cc8a0b17728"
      },
      "execution_count": 6,
      "outputs": [
        {
          "output_type": "stream",
          "name": "stdout",
          "text": [
            "Author identity unknown\n",
            "\n",
            "*** Please tell me who you are.\n",
            "\n",
            "Run\n",
            "\n",
            "  git config --global user.email \"you@example.com\"\n",
            "  git config --global user.name \"Your Name\"\n",
            "\n",
            "to set your account's default identity.\n",
            "Omit --global to set the identity only in this repository.\n",
            "\n",
            "fatal: unable to auto-detect email address (got 'root@a5031cb6bd53.(none)')\n"
          ]
        }
      ]
    },
    {
      "cell_type": "code",
      "source": [
        "!git config --global user.email \"barriosribbeck@gmail.com\"\n",
        "!git config --global user.name \"Francisco2963\""
      ],
      "metadata": {
        "id": "9dAOIv2UlK1i"
      },
      "execution_count": 7,
      "outputs": []
    },
    {
      "cell_type": "markdown",
      "source": [
        "# HINT. Carga de datos con Numpy"
      ],
      "metadata": {
        "id": "RJxWQ7Ifl1CT"
      }
    },
    {
      "cell_type": "code",
      "source": [
        "import numpy as np"
      ],
      "metadata": {
        "id": "LA9NW47kl4Qw"
      },
      "execution_count": 8,
      "outputs": []
    },
    {
      "cell_type": "code",
      "source": [
        "def cargar_datos(ruta_archivo):\n",
        "    datos = np.genfromtxt(ruta_archivo, delimiter=',', skip_header=1, dtype=str)\n",
        "    return datos"
      ],
      "metadata": {
        "id": "b5AYpEK9mE6C"
      },
      "execution_count": 9,
      "outputs": []
    },
    {
      "cell_type": "code",
      "source": [
        "if __name__ == \"__main__\":\n",
        "    ruta_archivo = '/content/retail_sales_dataset.csv'\n",
        "    datos = cargar_datos(ruta_archivo)\n",
        "    print(datos)"
      ],
      "metadata": {
        "colab": {
          "base_uri": "https://localhost:8080/"
        },
        "id": "Z-fCLxEumqm7",
        "outputId": "8e26bd8f-f04c-4210-dc3e-5f76937a7594"
      },
      "execution_count": 10,
      "outputs": [
        {
          "output_type": "stream",
          "name": "stdout",
          "text": [
            "[['1' '2023-11-24' 'CUST001' ... '3' '50' '150']\n",
            " ['2' '2023-02-27' 'CUST002' ... '2' '500' '1000']\n",
            " ['3' '2023-01-13' 'CUST003' ... '1' '30' '30']\n",
            " ...\n",
            " ['998' '2023-10-29' 'CUST998' ... '4' '25' '100']\n",
            " ['999' '2023-12-05' 'CUST999' ... '3' '50' '150']\n",
            " ['1000' '2023-04-12' 'CUST1000' ... '4' '30' '120']]\n"
          ]
        }
      ]
    }
  ]
}